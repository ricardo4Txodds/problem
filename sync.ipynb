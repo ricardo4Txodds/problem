{
 "cells": [
  {
   "cell_type": "code",
   "execution_count": 1,
   "id": "73a544c9-6845-40d6-8bc0-85a49cb27204",
   "metadata": {},
   "outputs": [],
   "source": [
    "from collections import deque\n",
    "from bs4 import BeautifulSoup as bs\n",
    "import pandas as pd\n",
    "import requests"
   ]
  },
  {
   "cell_type": "code",
   "execution_count": 2,
   "id": "8f07eb4b-196b-477c-ad1e-3b325dc53579",
   "metadata": {},
   "outputs": [],
   "source": [
    "input_list = deque()\n",
    "output_list = []\n",
    "     "
   ]
  },
  {
   "cell_type": "code",
   "execution_count": 3,
   "id": "dc724f55-9117-4c68-b82f-86f5b64b25d9",
   "metadata": {},
   "outputs": [],
   "source": [
    "#assuming a csv file with white space between each url\n",
    "raw_list = pd.read_csv('url_list.txt', sep=\" \", header=None, names=['url', '#'])\n",
    "def get_urls(): \n",
    "    #iterate all url's and add them to the stack\n",
    "    for index, row in raw_list.iterrows():\n",
    "        url = row['url']           \n",
    "        input_list.append(url)"
   ]
  },
  {
   "cell_type": "code",
   "execution_count": 4,
   "id": "05cbfe7f-5da8-47c9-8aef-d0d674d8d859",
   "metadata": {},
   "outputs": [],
   "source": [
    "def get_links():  \n",
    "     while input_list:\n",
    "        r = requests.get(input_list.pop()).text\n",
    "        soup = bs(r, 'html.parser')\n",
    "        \n",
    "        for link in soup.find_all('a'):\n",
    "            hyper = str(link.get('href'))\n",
    "            \n",
    "            #ignoring the relative_paths\n",
    "            if not hyper.find(\"http://\") or not hyper.find(\"https://\"):                           \n",
    "                output_list.append(hyper)"
   ]
  },
  {
   "cell_type": "code",
   "execution_count": 5,
   "id": "54a5378d-e980-4337-bbc1-b55d400e02f1",
   "metadata": {},
   "outputs": [],
   "source": [
    "def main(): \n",
    "    get_urls()\n",
    "    get_links()\n",
    "           "
   ]
  },
  {
   "cell_type": "code",
   "execution_count": null,
   "id": "b1702ac7-06e3-43b9-80d4-44f4d6352105",
   "metadata": {},
   "outputs": [],
   "source": []
  },
  {
   "cell_type": "code",
   "execution_count": null,
   "id": "6461307a-5677-43a0-9475-7d069d43ca2b",
   "metadata": {},
   "outputs": [],
   "source": []
  },
  {
   "cell_type": "code",
   "execution_count": null,
   "id": "5fd90e42-3c6f-48f3-a189-17bbffd90e86",
   "metadata": {},
   "outputs": [],
   "source": []
  }
 ],
 "metadata": {
  "kernelspec": {
   "display_name": "Python 3",
   "language": "python",
   "name": "python3"
  },
  "language_info": {
   "codemirror_mode": {
    "name": "ipython",
    "version": 3
   },
   "file_extension": ".py",
   "mimetype": "text/x-python",
   "name": "python",
   "nbconvert_exporter": "python",
   "pygments_lexer": "ipython3",
   "version": "3.8.3"
  }
 },
 "nbformat": 4,
 "nbformat_minor": 5
}
